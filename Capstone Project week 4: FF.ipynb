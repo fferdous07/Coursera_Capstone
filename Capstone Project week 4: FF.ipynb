{
    "cells": [
        {
            "metadata": {
                "collapsed": true
            },
            "cell_type": "markdown",
            "source": "I want to start a new highend indian fusion restaurant. I am open to toronto and NY area. I want to select a location based on following\n\n1. Mean and min income of a neighborhood\n2. Age group\n3. Presense of other indian restaurants in the neighborhood\n3. Is the neighborhood mulicultured or not\n\nIn previous projects, we got the data from Toronto and NY. Also How to use Foursquare app and machine learning. \n\nI will use both Toronto and NY data to get the selection information. Once I selected a venue. \n\nThen I will use Foursquare to know anout how many people visit the indian restaurant and what is their tips. \n\nI will try to predict how many people will visit a new restaurant. For that  I will segment the data into train and test data and apply Mulitple linear regression.\n\nI will select a place where prdiction is high.\n"
        },
        {
            "metadata": {},
            "cell_type": "code",
            "source": "",
            "execution_count": null,
            "outputs": []
        }
    ],
    "metadata": {
        "kernelspec": {
            "name": "python3",
            "display_name": "Python 3.7",
            "language": "python"
        },
        "language_info": {
            "name": "python",
            "version": "3.7.10",
            "mimetype": "text/x-python",
            "codemirror_mode": {
                "name": "ipython",
                "version": 3
            },
            "pygments_lexer": "ipython3",
            "nbconvert_exporter": "python",
            "file_extension": ".py"
        }
    },
    "nbformat": 4,
    "nbformat_minor": 1
}